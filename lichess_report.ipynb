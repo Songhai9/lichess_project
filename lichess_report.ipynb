{
 "cells": [
  {
   "cell_type": "markdown",
   "metadata": {},
   "source": [
    "# Chess Game Analysis with Spark\n",
    "\n",
    "## Introduction\n",
    "This notebook explores a dataset of chess games played on Lichess in September 2020. The dataset provides information on player ratings, game types, and in-depth annotations for moves, including blunders, mistakes, and inaccuracies.\n",
    "\n",
    "The goals of this project are:\n",
    "1. To analyze patterns in chess games, such as errors and win probabilities.\n",
    "2. To evaluate the impact of player rating and game type on gameplay metrics.\n",
    "3. To predict game outcomes using machine learning techniques.\n",
    "\n",
    "The analysis will be conducted using PySpark, allowing us to handle large-scale data efficiently. Key questions addressed include:\n",
    "- The rate of blunders, mistakes, and inaccuracies per move for different player categories.\n",
    "- The influence of chess openings on win probabilities.\n",
    "- The predictability of game outcomes based on gameplay features.\n",
    "\n",
    "Let's begin by loading and understanding the dataset.\n"
   ]
  },
  {
   "cell_type": "code",
   "execution_count": null,
   "metadata": {},
   "outputs": [],
   "source": [
    "from pyspark.sql import SparkSession\n",
    "from pyspark.sql.functions import col, count, when\n",
    "\n",
    "# Initialize Spark session\n",
    "spark = SparkSession.builder \\\n",
    "    .appName(\"ChessGameAnalysis\") \\\n",
    "    .getOrCreate()\n",
    "\n",
    "# Load the dataset\n",
    "file_path = \"Sept_20_analysis.csv\"\n",
    "df = spark.read.csv(file_path, header=True, inferSchema=True)\n",
    "\n",
    "# Show schema and first few rows\n",
    "df.printSchema()\n",
    "df.show(5, truncate=False)\n",
    "\n",
    "# Check for null values\n",
    "null_counts = df.select([count(when(col(c).isNull(), c)).alias(c) for c in df.columns])\n",
    "null_counts.show()\n"
   ]
  }
 ],
 "metadata": {
  "kernelspec": {
   "display_name": "Python 3",
   "language": "python",
   "name": "python3"
  },
  "language_info": {
   "codemirror_mode": {
    "name": "ipython",
    "version": 3
   },
   "file_extension": ".py",
   "mimetype": "text/x-python",
   "name": "python",
   "nbconvert_exporter": "python",
   "pygments_lexer": "ipython3",
   "version": "3.12.5"
  }
 },
 "nbformat": 4,
 "nbformat_minor": 2
}
